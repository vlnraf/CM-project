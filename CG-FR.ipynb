{
 "cells": [
  {
   "cell_type": "code",
   "execution_count": 44,
   "id": "db64c7a1",
   "metadata": {},
   "outputs": [],
   "source": [
    "import numpy as np\n",
    "from numpy import linalg as la\n",
    "from scipy import sparse\n",
    "import pandas as pd\n",
    "import seaborn as sns\n",
    "import src.normFunction as nf\n",
    "import src.cg as CG\n",
    "import scipy.sparse as sparse\n",
    "from src.utility import make_plot"
   ]
  },
  {
   "cell_type": "code",
   "execution_count": 45,
   "id": "503a5d91",
   "metadata": {},
   "outputs": [],
   "source": [
    "import warnings\n",
    "warnings.filterwarnings('ignore')"
   ]
  },
  {
   "cell_type": "code",
   "execution_count": 46,
   "id": "6aa5a6a0",
   "metadata": {},
   "outputs": [],
   "source": [
    "PATH = \"./matrix/\""
   ]
  },
  {
   "cell_type": "code",
   "execution_count": 47,
   "id": "b878aed1",
   "metadata": {},
   "outputs": [],
   "source": [
    "M1 = np.loadtxt(PATH + 'M1.txt')\n",
    "M2 = np.loadtxt(PATH + 'M2.txt')\n",
    "M3 = np.loadtxt(PATH + 'M3.txt')\n",
    "M4 = np.loadtxt(PATH + 'M4.txt')\n",
    "M5 = np.loadtxt(PATH + 'M5.txt')"
   ]
  },
  {
   "cell_type": "markdown",
   "id": "03748690",
   "metadata": {},
   "source": [
    "# Experiments on Matrix M1"
   ]
  },
  {
   "cell_type": "code",
   "execution_count": 48,
   "id": "ad955825",
   "metadata": {},
   "outputs": [],
   "source": [
    "errorsCG = []\n",
    "gradientsCG = []"
   ]
  },
  {
   "cell_type": "code",
   "execution_count": 49,
   "id": "449403c8",
   "metadata": {},
   "outputs": [],
   "source": [
    "f = nf.normFunction(M1)"
   ]
  },
  {
   "cell_type": "code",
   "execution_count": 50,
   "id": "d0e32300",
   "metadata": {},
   "outputs": [],
   "source": [
    "initial_vector = f.init_x()"
   ]
  },
  {
   "cell_type": "code",
   "execution_count": 51,
   "id": "f682860d",
   "metadata": {},
   "outputs": [
    {
     "name": "stdout",
     "output_type": "stream",
     "text": [
      "Iteration number 1, -f(x) = 455.7441, gradientNorm = 73.175247\n",
      "Iteration number 2, -f(x) = 776.2575, gradientNorm = 29.968328\n",
      "Iteration number 3, -f(x) = 875.3452, gradientNorm = 14.785849\n",
      "Iteration number 4, -f(x) = 928.2360, gradientNorm = 6.954498\n",
      "Iteration number 5, -f(x) = 945.0156, gradientNorm = 4.120575\n",
      "Iteration number 6, -f(x) = 955.9724, gradientNorm = 3.690520\n",
      "Iteration number 7, -f(x) = 968.6152, gradientNorm = 3.021360\n",
      "Iteration number 8, -f(x) = 978.8050, gradientNorm = 2.377513\n",
      "Iteration number 9, -f(x) = 988.9025, gradientNorm = 1.800617\n",
      "Iteration number 10, -f(x) = 997.0577, gradientNorm = 1.341379\n",
      "Iteration number 11, -f(x) = 1003.9367, gradientNorm = 0.969511\n",
      "Iteration number 12, -f(x) = 1008.3467, gradientNorm = 0.647150\n",
      "Iteration number 13, -f(x) = 1010.8654, gradientNorm = 0.438318\n",
      "Iteration number 14, -f(x) = 1012.1191, gradientNorm = 0.277961\n",
      "Iteration number 15, -f(x) = 1012.6643, gradientNorm = 0.186456\n",
      "Iteration number 16, -f(x) = 1012.9430, gradientNorm = 0.134564\n",
      "Iteration number 17, -f(x) = 1013.0860, gradientNorm = 0.092774\n",
      "Iteration number 18, -f(x) = 1013.1563, gradientNorm = 0.068101\n",
      "Iteration number 19, -f(x) = 1013.1942, gradientNorm = 0.045708\n",
      "Iteration number 20, -f(x) = 1013.2089, gradientNorm = 0.027196\n",
      "Iteration number 21, -f(x) = 1013.2145, gradientNorm = 0.018656\n",
      "Iteration number 22, -f(x) = 1013.2173, gradientNorm = 0.011968\n",
      "Iteration number 23, -f(x) = 1013.2183, gradientNorm = 0.006910\n",
      "Iteration number 24, -f(x) = 1013.2186, gradientNorm = 0.004636\n",
      "Iteration number 25, -f(x) = 1013.2188, gradientNorm = 0.003129\n",
      "Iteration number 26, -f(x) = 1013.2189, gradientNorm = 0.002036\n",
      "Iteration number 27, -f(x) = 1013.2189, gradientNorm = 0.001228\n",
      "Iteration number 28, -f(x) = 1013.2189, gradientNorm = 0.000670\n",
      "Iteration number 29, -f(x) = 1013.2189, gradientNorm = 0.000438\n",
      "Iteration number 30, -f(x) = 1013.2189, gradientNorm = 0.000333\n",
      "Iteration number 31, -f(x) = 1013.2189, gradientNorm = 0.000229\n",
      "Iteration number 32, -f(x) = 1013.2189, gradientNorm = 0.000164\n",
      "Iteration number 33, -f(x) = 1013.2189, gradientNorm = 0.000107\n",
      "Iteration number 34, -f(x) = 1013.2189, gradientNorm = 0.000064\n",
      "Iteration number 35, -f(x) = 1013.2189, gradientNorm = 0.000044\n",
      "Iteration number 36, -f(x) = 1013.2189, gradientNorm = 0.000029\n",
      "Iteration number 37, -f(x) = 1013.2189, gradientNorm = 0.000018\n",
      "Iteration number 38, -f(x) = 1013.2189, gradientNorm = 0.000012\n",
      "Iteration number 39, -f(x) = 1013.2189, gradientNorm = 0.000008\n"
     ]
    }
   ],
   "source": [
    "optimizerCG = CG.conjugateGradient(f, 1e-5, 500, x=initial_vector, verbose = True)\n",
    "gradientCG, normsCG = optimizerCG.ConjugateGradient()"
   ]
  },
  {
   "cell_type": "code",
   "execution_count": 52,
   "id": "a5c93a3e",
   "metadata": {},
   "outputs": [],
   "source": [
    "norm = la.norm(M1, ord=2) ** 2"
   ]
  },
  {
   "cell_type": "code",
   "execution_count": 53,
   "id": "0cf46f43",
   "metadata": {},
   "outputs": [],
   "source": [
    "# Norm and errors SGD\n",
    "normsCG = np.array(normsCG)\n",
    "gradientsCG.insert(0,np.array(gradientCG))\n",
    "size1 = normsCG.size"
   ]
  },
  {
   "cell_type": "code",
   "execution_count": 54,
   "id": "021b18a8",
   "metadata": {},
   "outputs": [],
   "source": [
    "normvec = np.ones(size1) * norm\n",
    "errorsCG.insert(0, (abs(normsCG - normvec) / abs(normvec)))"
   ]
  },
  {
   "cell_type": "code",
   "execution_count": 55,
   "id": "6e5cfa19",
   "metadata": {},
   "outputs": [
    {
     "data": {
      "text/plain": [
       "7.231523611195372e-13"
      ]
     },
     "execution_count": 55,
     "metadata": {},
     "output_type": "execute_result"
    }
   ],
   "source": [
    "errorsCG[-1][-1]"
   ]
  },
  {
   "cell_type": "code",
   "execution_count": 56,
   "id": "34f61bb9",
   "metadata": {
    "scrolled": false
   },
   "outputs": [
    {
     "data": {
      "image/png": "[encoded data removed]",
      "text/plain": [
       "<Figure size 1440x576 with 2 Axes>"
      ]
     },
     "metadata": {
      "needs_background": "light"
     },
     "output_type": "display_data"
    }
   ],
   "source": [
    "make_plot(gradientsCG, errorsCG,type='M1', experiment_name='exp1-M1-CG-FR')"
   ]
  },
  {
   "cell_type": "code",
   "execution_count": 15,
   "id": "090d5804",
   "metadata": {
    "scrolled": true
   },
   "outputs": [
    {
     "name": "stdout",
     "output_type": "stream",
     "text": [
      "4.83 ms ± 1.57 ms per loop (mean ± std. dev. of 100 runs, 10 loops each)\n"
     ]
    }
   ],
   "source": [
    "%%timeit -r 100 -n 10\n",
    "# Optimizer SGD\n",
    "f = nf.normFunction(M1)\n",
    "optimizerCG = CG.conjugateGradient(f, 1e-5, 500, x=initial_vector, verbose = False)\n",
    "gradientCG, normsCG = optimizerCG.ConjugateGradient()"
   ]
  },
  {
   "cell_type": "code",
   "execution_count": 20,
   "id": "bb53ee3d",
   "metadata": {},
   "outputs": [],
   "source": [
    "from scipy.optimize import minimize"
   ]
  },
  {
   "cell_type": "code",
   "execution_count": 21,
   "id": "1412203b",
   "metadata": {},
   "outputs": [
    {
     "name": "stdout",
     "output_type": "stream",
     "text": [
      "174 ms ± 11.7 ms per loop (mean ± std. dev. of 100 runs, 10 loops each)\n"
     ]
    }
   ],
   "source": [
    "%%timeit -r 100 -n 10\n",
    "res = minimize(f.func_, initial_vector, method='CG', jac=f.func_grad_, tol=1e-5, options = {'maxiter' : 500})\n",
    "value = -res.fun"
   ]
  },
  {
   "cell_type": "markdown",
   "id": "a0e0bfe7",
   "metadata": {},
   "source": [
    "# Experiments on Matrix M2"
   ]
  },
  {
   "cell_type": "code",
   "execution_count": 22,
   "id": "49549c42",
   "metadata": {},
   "outputs": [],
   "source": [
    "errorsCG = []\n",
    "gradientsCG = []"
   ]
  },
  {
   "cell_type": "code",
   "execution_count": 23,
   "id": "c1d37e5c",
   "metadata": {},
   "outputs": [],
   "source": [
    "f = nf.normFunction(M2)"
   ]
  },
  {
   "cell_type": "code",
   "execution_count": 24,
   "id": "1cca9b36",
   "metadata": {},
   "outputs": [],
   "source": [
    "initial_vector = f.init_x()"
   ]
  },
  {
   "cell_type": "code",
   "execution_count": 25,
   "id": "cc888571",
   "metadata": {},
   "outputs": [
    {
     "name": "stdout",
     "output_type": "stream",
     "text": [
      "Iteration number 1, -f(x) = 2088.3937, gradientNorm = 170.479271\n",
      "Iteration number 2, -f(x) = 2355.4440, gradientNorm = 72.162552\n",
      "Iteration number 3, -f(x) = 2469.4396, gradientNorm = 42.311671\n",
      "Iteration number 4, -f(x) = 2528.7688, gradientNorm = 27.605170\n",
      "Iteration number 5, -f(x) = 2573.9660, gradientNorm = 14.760500\n",
      "Iteration number 6, -f(x) = 2590.0531, gradientNorm = 7.765354\n",
      "Iteration number 7, -f(x) = 2597.9676, gradientNorm = 6.315524\n",
      "Iteration number 8, -f(x) = 2606.6062, gradientNorm = 6.854271\n",
      "Iteration number 9, -f(x) = 2619.6643, gradientNorm = 6.207507\n",
      "Iteration number 10, -f(x) = 2631.2786, gradientNorm = 3.968444\n",
      "Iteration number 11, -f(x) = 2637.7045, gradientNorm = 2.318439\n",
      "Iteration number 12, -f(x) = 2640.7356, gradientNorm = 1.385254\n",
      "Iteration number 13, -f(x) = 2641.8672, gradientNorm = 0.782293\n",
      "Iteration number 14, -f(x) = 2642.3016, gradientNorm = 0.549244\n",
      "Iteration number 15, -f(x) = 2642.5341, gradientNorm = 0.378014\n",
      "Iteration number 16, -f(x) = 2642.6350, gradientNorm = 0.252934\n",
      "Iteration number 17, -f(x) = 2642.6874, gradientNorm = 0.197558\n",
      "Iteration number 18, -f(x) = 2642.7170, gradientNorm = 0.132500\n",
      "Iteration number 19, -f(x) = 2642.7291, gradientNorm = 0.087591\n",
      "Iteration number 20, -f(x) = 2642.7346, gradientNorm = 0.054910\n",
      "Iteration number 21, -f(x) = 2642.7364, gradientNorm = 0.029487\n",
      "Iteration number 22, -f(x) = 2642.7370, gradientNorm = 0.019562\n",
      "Iteration number 23, -f(x) = 2642.7374, gradientNorm = 0.016708\n",
      "Iteration number 24, -f(x) = 2642.7376, gradientNorm = 0.013477\n",
      "Iteration number 25, -f(x) = 2642.7378, gradientNorm = 0.008406\n",
      "Iteration number 26, -f(x) = 2642.7378, gradientNorm = 0.004360\n",
      "Iteration number 27, -f(x) = 2642.7378, gradientNorm = 0.002301\n",
      "Iteration number 28, -f(x) = 2642.7378, gradientNorm = 0.001334\n",
      "Iteration number 29, -f(x) = 2642.7378, gradientNorm = 0.001034\n",
      "Iteration number 30, -f(x) = 2642.7378, gradientNorm = 0.000787\n",
      "Iteration number 31, -f(x) = 2642.7378, gradientNorm = 0.000493\n",
      "Iteration number 32, -f(x) = 2642.7378, gradientNorm = 0.000325\n",
      "Iteration number 33, -f(x) = 2642.7378, gradientNorm = 0.000199\n",
      "Iteration number 34, -f(x) = 2642.7378, gradientNorm = 0.000113\n",
      "Iteration number 35, -f(x) = 2642.7378, gradientNorm = 0.000070\n",
      "Iteration number 36, -f(x) = 2642.7378, gradientNorm = 0.000041\n",
      "Iteration number 37, -f(x) = 2642.7378, gradientNorm = 0.000024\n",
      "Iteration number 38, -f(x) = 2642.7378, gradientNorm = 0.000018\n",
      "Iteration number 39, -f(x) = 2642.7378, gradientNorm = 0.000013\n",
      "Iteration number 40, -f(x) = 2642.7378, gradientNorm = 0.000009\n"
     ]
    }
   ],
   "source": [
    "optimizerCG = CG.conjugateGradient(f, 1e-5, 500, x=initial_vector, verbose = True)\n",
    "gradientCG, normsCG = optimizerCG.ConjugateGradient()"
   ]
  },
  {
   "cell_type": "code",
   "execution_count": 26,
   "id": "ece2bfc0",
   "metadata": {},
   "outputs": [],
   "source": [
    "norm = la.norm(M2, ord=2) ** 2"
   ]
  },
  {
   "cell_type": "code",
   "execution_count": 27,
   "id": "f41dbc0b",
   "metadata": {},
   "outputs": [],
   "source": [
    "# Norm and errors SGD\n",
    "normsCG = np.array(normsCG)\n",
    "gradientsCG.insert(0,np.array(gradientCG))\n",
    "size1 = normsCG.size"
   ]
  },
  {
   "cell_type": "code",
   "execution_count": 28,
   "id": "bbdab28a",
   "metadata": {},
   "outputs": [],
   "source": [
    "normvec = np.ones(size1) * norm\n",
    "errorsCG.insert(0, (abs(normsCG - normvec) / abs(normvec)))"
   ]
  },
  {
   "cell_type": "code",
   "execution_count": null,
   "id": "6d32da17",
   "metadata": {},
   "outputs": [],
   "source": [
    "errorsCG[-1][-1]"
   ]
  },
  {
   "cell_type": "code",
   "execution_count": null,
   "id": "556d6da9",
   "metadata": {
    "scrolled": true
   },
   "outputs": [],
   "source": [
    "make_plot(gradientsCG, errorsCG,type='M2', experiment_name='exp1-M2-CG-FR')"
   ]
  },
  {
   "cell_type": "code",
   "execution_count": null,
   "id": "b9f1c9cb",
   "metadata": {},
   "outputs": [],
   "source": [
    "%%timeit -r 100 -n 10\n",
    "# Optimizer SGD\n",
    "f = nf.normFunction(M2)\n",
    "optimizerCG = CG.conjugateGradient(f, 1e-5, 500, x=initial_vector, verbose = False)\n",
    "gradientCG, normsCG = optimizerCG.ConjugateGradient()"
   ]
  },
  {
   "cell_type": "code",
   "execution_count": 57,
   "id": "c599327a",
   "metadata": {},
   "outputs": [],
   "source": [
    "from scipy.optimize import minimize"
   ]
  },
  {
   "cell_type": "code",
   "execution_count": null,
   "id": "6fad8957",
   "metadata": {},
   "outputs": [],
   "source": [
    "%%timeit -r 100 -n 10\n",
    "res = minimize(f.func_, initial_vector, method='CG', jac=f.func_grad_, tol=1e-5, options = {'maxiter' : 500})\n",
    "value = -res.fun"
   ]
  },
  {
   "cell_type": "markdown",
   "id": "de876374",
   "metadata": {},
   "source": [
    "# Experiments on Matrix M3"
   ]
  },
  {
   "cell_type": "code",
   "execution_count": null,
   "id": "adcdccb5",
   "metadata": {},
   "outputs": [],
   "source": [
    "errorsCG = []\n",
    "gradientsCG = []"
   ]
  },
  {
   "cell_type": "code",
   "execution_count": null,
   "id": "04ef08df",
   "metadata": {},
   "outputs": [],
   "source": [
    "f = nf.normFunction(M3)"
   ]
  },
  {
   "cell_type": "code",
   "execution_count": null,
   "id": "5ea49c79",
   "metadata": {},
   "outputs": [],
   "source": [
    "initial_vector = f.init_x()"
   ]
  },
  {
   "cell_type": "code",
   "execution_count": null,
   "id": "5e8d00f9",
   "metadata": {},
   "outputs": [],
   "source": [
    "optimizerCG = CG.conjugateGradient(f, 1e-5, 500, x=initial_vector, verbose = True)\n",
    "gradientCG, normsCG = optimizerCG.ConjugateGradient()"
   ]
  },
  {
   "cell_type": "code",
   "execution_count": null,
   "id": "c4569aeb",
   "metadata": {},
   "outputs": [],
   "source": [
    "norm = la.norm(M3, ord=2) ** 2"
   ]
  },
  {
   "cell_type": "code",
   "execution_count": null,
   "id": "4c162044",
   "metadata": {},
   "outputs": [],
   "source": [
    "# Norm and errors SGD\n",
    "normsCG = np.array(normsCG)\n",
    "gradientsCG.insert(0,np.array(gradientCG))\n",
    "size1 = normsCG.size"
   ]
  },
  {
   "cell_type": "code",
   "execution_count": null,
   "id": "046a5f52",
   "metadata": {},
   "outputs": [],
   "source": [
    "normvec = np.ones(size1) * norm\n",
    "errorsCG.insert(0, (abs(normsCG - normvec) / abs(normvec)))"
   ]
  },
  {
   "cell_type": "code",
   "execution_count": null,
   "id": "5acd75cb",
   "metadata": {},
   "outputs": [],
   "source": [
    "errorsCG[-1][-1]"
   ]
  },
  {
   "cell_type": "code",
   "execution_count": null,
   "id": "947fe373",
   "metadata": {
    "scrolled": false
   },
   "outputs": [],
   "source": [
    "make_plot(gradientsCG, errorsCG, type='M3', experiment_name='exp1-M3-CG-FR')"
   ]
  },
  {
   "cell_type": "code",
   "execution_count": null,
   "id": "878c1d58",
   "metadata": {},
   "outputs": [],
   "source": [
    "%%timeit -r 100 -n 10\n",
    "# Optimizer SGD\n",
    "f = nf.normFunction(M3)\n",
    "optimizerCG = CG.conjugateGradient(f, 1e-5, 500, x=initial_vector, verbose = False)\n",
    "gradientCG, normsCG = optimizerCG.ConjugateGradient()"
   ]
  },
  {
   "cell_type": "code",
   "execution_count": null,
   "id": "a54ec26c",
   "metadata": {},
   "outputs": [],
   "source": [
    "from scipy.optimize import minimize"
   ]
  },
  {
   "cell_type": "code",
   "execution_count": null,
   "id": "5b08f353",
   "metadata": {},
   "outputs": [],
   "source": [
    "%%timeit -r 100 -n 10\n",
    "res = minimize(f.func_, initial_vector, method='CG', jac=f.func_grad_, tol=1e-5, options = {'maxiter' : 500})\n",
    "value = -res.fun"
   ]
  },
  {
   "cell_type": "markdown",
   "id": "13bb524e",
   "metadata": {},
   "source": [
    "# Experiments on Matrix M4"
   ]
  },
  {
   "cell_type": "code",
   "execution_count": 29,
   "id": "b5adc381",
   "metadata": {},
   "outputs": [],
   "source": [
    "errorsCG = []\n",
    "gradientsCG = []"
   ]
  },
  {
   "cell_type": "code",
   "execution_count": 30,
   "id": "d7761868",
   "metadata": {},
   "outputs": [],
   "source": [
    "f = nf.normFunction(M4)"
   ]
  },
  {
   "cell_type": "code",
   "execution_count": 31,
   "id": "116dfab6",
   "metadata": {},
   "outputs": [],
   "source": [
    "initial_vector = f.init_x()"
   ]
  },
  {
   "cell_type": "code",
   "execution_count": 32,
   "id": "775bfd93",
   "metadata": {
    "scrolled": true
   },
   "outputs": [
    {
     "name": "stdout",
     "output_type": "stream",
     "text": [
      "Iteration number 1, -f(x) = 50.5822, gradientNorm = 25.090792\n",
      "Iteration number 2, -f(x) = 2132.1290, gradientNorm = 3.357652\n",
      "Iteration number 3, -f(x) = 2371.7771, gradientNorm = 1.817650\n",
      "Iteration number 4, -f(x) = 2516.6448, gradientNorm = 0.742998\n",
      "Iteration number 5, -f(x) = 2567.1248, gradientNorm = 0.493553\n",
      "Iteration number 6, -f(x) = 2588.3988, gradientNorm = 0.549549\n",
      "Iteration number 7, -f(x) = 2612.5883, gradientNorm = 0.322720\n",
      "Iteration number 8, -f(x) = 2630.2173, gradientNorm = 0.252278\n",
      "Iteration number 9, -f(x) = 2637.0851, gradientNorm = 0.165745\n",
      "Iteration number 10, -f(x) = 2644.3027, gradientNorm = 0.127639\n",
      "Iteration number 11, -f(x) = 2646.8832, gradientNorm = 0.092724\n",
      "Iteration number 12, -f(x) = 2648.9882, gradientNorm = 0.059568\n",
      "Iteration number 13, -f(x) = 2649.7059, gradientNorm = 0.046039\n",
      "Iteration number 14, -f(x) = 2650.1496, gradientNorm = 0.024138\n",
      "Iteration number 15, -f(x) = 2650.2840, gradientNorm = 0.020414\n",
      "Iteration number 16, -f(x) = 2650.3771, gradientNorm = 0.013179\n",
      "Iteration number 17, -f(x) = 2650.4338, gradientNorm = 0.013771\n",
      "Iteration number 18, -f(x) = 2650.4731, gradientNorm = 0.008311\n",
      "Iteration number 19, -f(x) = 2650.4938, gradientNorm = 0.007388\n",
      "Iteration number 20, -f(x) = 2650.5042, gradientNorm = 0.004612\n",
      "Iteration number 21, -f(x) = 2650.5108, gradientNorm = 0.003805\n",
      "Iteration number 22, -f(x) = 2650.5134, gradientNorm = 0.002467\n",
      "Iteration number 23, -f(x) = 2650.5153, gradientNorm = 0.001920\n",
      "Iteration number 24, -f(x) = 2650.5161, gradientNorm = 0.001492\n",
      "Iteration number 25, -f(x) = 2650.5168, gradientNorm = 0.001249\n",
      "Iteration number 26, -f(x) = 2650.5172, gradientNorm = 0.001063\n",
      "Iteration number 27, -f(x) = 2650.5175, gradientNorm = 0.000651\n",
      "Iteration number 28, -f(x) = 2650.5176, gradientNorm = 0.000545\n",
      "Iteration number 29, -f(x) = 2650.5177, gradientNorm = 0.000393\n",
      "Iteration number 30, -f(x) = 2650.5177, gradientNorm = 0.000373\n",
      "Iteration number 31, -f(x) = 2650.5177, gradientNorm = 0.000193\n",
      "Iteration number 32, -f(x) = 2650.5177, gradientNorm = 0.000159\n",
      "Iteration number 33, -f(x) = 2650.5177, gradientNorm = 0.000093\n",
      "Iteration number 34, -f(x) = 2650.5177, gradientNorm = 0.000082\n",
      "Iteration number 35, -f(x) = 2650.5177, gradientNorm = 0.000041\n",
      "Iteration number 36, -f(x) = 2650.5177, gradientNorm = 0.000027\n",
      "Iteration number 37, -f(x) = 2650.5177, gradientNorm = 0.000015\n",
      "Iteration number 38, -f(x) = 2650.5177, gradientNorm = 0.000012\n",
      "Iteration number 39, -f(x) = 2650.5177, gradientNorm = 0.000008\n"
     ]
    }
   ],
   "source": [
    "optimizerCG = CG.conjugateGradient(f, 1e-5, 500, x=initial_vector, verbose = True)\n",
    "gradientCG, normsCG = optimizerCG.ConjugateGradient()"
   ]
  },
  {
   "cell_type": "code",
   "execution_count": 33,
   "id": "3935827b",
   "metadata": {},
   "outputs": [],
   "source": [
    "norm = la.norm(M4, ord=2) ** 2"
   ]
  },
  {
   "cell_type": "code",
   "execution_count": 34,
   "id": "c0b64d51",
   "metadata": {},
   "outputs": [
    {
     "data": {
      "text/plain": [
       "2650.5177433377776"
      ]
     },
     "execution_count": 34,
     "metadata": {},
     "output_type": "execute_result"
    }
   ],
   "source": [
    "norm"
   ]
  },
  {
   "cell_type": "code",
   "execution_count": 35,
   "id": "2abb4ea3",
   "metadata": {},
   "outputs": [],
   "source": [
    "# Norm and errors SGD\n",
    "normsCG = np.array(normsCG)\n",
    "gradientsCG.insert(0,np.array(gradientCG))\n",
    "size1 = normsCG.size"
   ]
  },
  {
   "cell_type": "code",
   "execution_count": 36,
   "id": "73f7dbe9",
   "metadata": {},
   "outputs": [],
   "source": [
    "normvec = np.ones(size1) * norm\n",
    "errorsCG.insert(0, (abs(normsCG - normvec) / abs(normvec)))"
   ]
  },
  {
   "cell_type": "code",
   "execution_count": 37,
   "id": "95120eb1",
   "metadata": {},
   "outputs": [
    {
     "data": {
      "text/plain": [
       "1.1251854789804162e-11"
      ]
     },
     "execution_count": 37,
     "metadata": {},
     "output_type": "execute_result"
    }
   ],
   "source": [
    "errorsCG[-1][-1]"
   ]
  },
  {
   "cell_type": "code",
   "execution_count": 38,
   "id": "26518715",
   "metadata": {
    "scrolled": true
   },
   "outputs": [
    {
     "data": {
      "image/png": "[encoded data removed]",
      "text/plain": [
       "<Figure size 1440x576 with 2 Axes>"
      ]
     },
     "metadata": {
      "needs_background": "light"
     },
     "output_type": "display_data"
    }
   ],
   "source": [
    "make_plot(gradientsCG, errorsCG, type='M4', experiment_name='exp1-M4-CG-FR')"
   ]
  },
  {
   "cell_type": "code",
   "execution_count": 39,
   "id": "d2b1a884",
   "metadata": {},
   "outputs": [
    {
     "name": "stdout",
     "output_type": "stream",
     "text": [
      "52.8 ms ± 9.88 ms per loop (mean ± std. dev. of 100 runs, 10 loops each)\n"
     ]
    }
   ],
   "source": [
    "%%timeit -r 100 -n 10\n",
    "# Optimizer SGD\n",
    "f = nf.normFunction(M4)\n",
    "optimizerCG = CG.conjugateGradient(f, 1e-5, 500, x=initial_vector, verbose = False)\n",
    "gradientCG, normsCG = optimizerCG.ConjugateGradient()"
   ]
  },
  {
   "cell_type": "code",
   "execution_count": 40,
   "id": "6a9c07fb",
   "metadata": {},
   "outputs": [],
   "source": [
    "from scipy.optimize import minimize"
   ]
  },
  {
   "cell_type": "code",
   "execution_count": 43,
   "id": "355689cf",
   "metadata": {},
   "outputs": [
    {
     "name": "stdout",
     "output_type": "stream",
     "text": [
      "94.2 ms ± 17.8 ms per loop (mean ± std. dev. of 100 runs, 10 loops each)\n"
     ]
    }
   ],
   "source": [
    "%%timeit -r 100 -n 10\n",
    "res = minimize(f.func_, initial_vector, method='CG', jac=f.func_grad_, tol=1e-5, options = {'maxiter' : 500})\n",
    "value = -res.fun"
   ]
  },
  {
   "cell_type": "markdown",
   "id": "434d8a18",
   "metadata": {},
   "source": [
    "# Experiments on Matrix M5"
   ]
  },
  {
   "cell_type": "code",
   "execution_count": null,
   "id": "d0465cbe",
   "metadata": {},
   "outputs": [],
   "source": [
    "errorsCG = []\n",
    "gradientsCG = []"
   ]
  },
  {
   "cell_type": "code",
   "execution_count": null,
   "id": "95c125f8",
   "metadata": {},
   "outputs": [],
   "source": [
    "f = nf.normFunction(M5)"
   ]
  },
  {
   "cell_type": "code",
   "execution_count": null,
   "id": "1fb8df36",
   "metadata": {},
   "outputs": [],
   "source": [
    "initial_vector = f.init_x()"
   ]
  },
  {
   "cell_type": "code",
   "execution_count": null,
   "id": "eb958bd9",
   "metadata": {},
   "outputs": [],
   "source": [
    "optimizerCG = CG.conjugateGradient(f, 1e-5, 500, x=initial_vector, verbose = True)\n",
    "gradientCG, normsCG = optimizerCG.ConjugateGradient()"
   ]
  },
  {
   "cell_type": "code",
   "execution_count": null,
   "id": "2d02fb1a",
   "metadata": {},
   "outputs": [],
   "source": [
    "norm = la.norm(M5, ord=2) ** 2"
   ]
  },
  {
   "cell_type": "code",
   "execution_count": null,
   "id": "e5102c1e",
   "metadata": {},
   "outputs": [],
   "source": [
    "norm"
   ]
  },
  {
   "cell_type": "code",
   "execution_count": null,
   "id": "c7225d48",
   "metadata": {},
   "outputs": [],
   "source": [
    "# Norm and errors SGD\n",
    "normsCG = np.array(normsCG)\n",
    "gradientsCG.insert(0,np.array(gradientCG))\n",
    "size1 = normsCG.size"
   ]
  },
  {
   "cell_type": "code",
   "execution_count": null,
   "id": "11a81f2e",
   "metadata": {},
   "outputs": [],
   "source": [
    "normvec = np.ones(size1) * norm\n",
    "errorsCG.insert(0, (abs(normsCG - normvec) / abs(normvec)))"
   ]
  },
  {
   "cell_type": "code",
   "execution_count": null,
   "id": "eb8967c7",
   "metadata": {},
   "outputs": [],
   "source": [
    "errorsCG[-1][-1]"
   ]
  },
  {
   "cell_type": "code",
   "execution_count": null,
   "id": "36e36e05",
   "metadata": {
    "scrolled": true
   },
   "outputs": [],
   "source": [
    "make_plot(gradientsCG, errorsCG, type='M5', experiment_name='exp1-M5-CG-FR')"
   ]
  },
  {
   "cell_type": "code",
   "execution_count": null,
   "id": "fc5a299f",
   "metadata": {},
   "outputs": [],
   "source": [
    "%%timeit -r 100 -n 10\n",
    "# Optimizer SGD\n",
    "f = nf.normFunction(M5)\n",
    "optimizerCG = CG.conjugateGradient(f, 1e-5, 500, x=initial_vector, verbose = False)\n",
    "gradientCG, normsCG = optimizerCG.ConjugateGradient()"
   ]
  },
  {
   "cell_type": "code",
   "execution_count": null,
   "id": "bd80e3f9",
   "metadata": {},
   "outputs": [],
   "source": [
    "from scipy.optimize import minimize"
   ]
  },
  {
   "cell_type": "code",
   "execution_count": null,
   "id": "ae5c547d",
   "metadata": {},
   "outputs": [],
   "source": [
    "%%timeit -r 100 -n 10\n",
    "res = minimize(f.func_, initial_vector, method='CG', jac=f.func_grad_, tol=1e-5, options = {'maxiter' : 500})\n",
    "value = -res.fun"
   ]
  }
 ],
 "metadata": {
  "kernelspec": {
   "display_name": "Python 3 (ipykernel)",
   "language": "python",
   "name": "python3"
  },
  "language_info": {
   "codemirror_mode": {
    "name": "ipython",
    "version": 3
   },
   "file_extension": ".py",
   "mimetype": "text/x-python",
   "name": "python",
   "nbconvert_exporter": "python",
   "pygments_lexer": "ipython3",
   "version": "3.8.13"
  }
 },
 "nbformat": 4,
 "nbformat_minor": 5
}
