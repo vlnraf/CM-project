{
 "cells": [
  {
   "cell_type": "code",
   "execution_count": 1,
   "id": "5d811ba2",
   "metadata": {},
   "outputs": [],
   "source": [
    "import numpy as np\n",
    "from numpy import linalg as la\n",
    "from scipy import sparse\n",
    "import pandas as pd\n",
    "import seaborn as sns\n",
    "import src.normFunc as nf\n",
    "import src.gd as GD\n",
    "import scipy.sparse as sparse\n",
    "from src.utility import make_plot"
   ]
  },
  {
   "cell_type": "code",
   "execution_count": 2,
   "id": "5b762293",
   "metadata": {},
   "outputs": [],
   "source": [
    "matrix_path = \"./matrix/\""
   ]
  },
  {
   "cell_type": "code",
   "execution_count": 3,
   "id": "f01a6bae",
   "metadata": {},
   "outputs": [],
   "source": [
    "M1 = np.loadtxt(matrix_path + 'M1.txt')\n",
    "M2 = np.loadtxt(matrix_path + 'M2.txt')\n",
    "M3 = np.loadtxt(matrix_path + 'M3.txt')\n",
    "M4 = np.loadtxt(matrix_path + 'M4.txt')\n",
    "M5 = np.loadtxt(matrix_path + 'M5.txt')"
   ]
  },
  {
   "cell_type": "markdown",
   "id": "6d9a9033",
   "metadata": {},
   "source": [
    "# Experiments on Matrix M1"
   ]
  },
  {
   "cell_type": "code",
   "execution_count": 4,
   "id": "f5b052de",
   "metadata": {},
   "outputs": [],
   "source": [
    "f = nf.Norm(M1)"
   ]
  },
  {
   "cell_type": "code",
   "execution_count": 5,
   "id": "f1410ace",
   "metadata": {},
   "outputs": [],
   "source": [
    "initial_vector = f.init_x()"
   ]
  },
  {
   "cell_type": "code",
   "execution_count": 6,
   "id": "2d32db09",
   "metadata": {},
   "outputs": [],
   "source": [
    "norm = la.norm(M1, ord=2) ** 2"
   ]
  },
  {
   "cell_type": "code",
   "execution_count": 7,
   "id": "728fd671",
   "metadata": {},
   "outputs": [
    {
     "name": "stdout",
     "output_type": "stream",
     "text": [
      "[start]\n",
      "iteration 0, f(x) = 794.5515, ||gradient(f(x))|| = 36.949618, alpha=0.0913, rate=0.0000\n",
      "iteration 1, f(x) = 901.6160, ||gradient(f(x))|| = 22.518858, alpha=0.1568, rate=0.4185\n",
      "iteration 2, f(x) = 936.4298, ||gradient(f(x))|| = 13.751793, alpha=0.1373, rate=0.5104\n",
      "iteration 3, f(x) = 953.0410, ||gradient(f(x))|| = 11.187615, alpha=0.1757, rate=0.6881\n",
      "iteration 4, f(x) = 962.7669, ||gradient(f(x))|| = 8.584797, alpha=0.1554, rate=0.7837\n",
      "iteration 5, f(x) = 969.9204, ||gradient(f(x))|| = 8.424463, alpha=0.1941, rate=0.8384\n",
      "iteration 6, f(x) = 975.7577, ||gradient(f(x))|| = 7.131853, alpha=0.1645, rate=0.8582\n",
      "iteration 7, f(x) = 980.8362, ||gradient(f(x))|| = 7.325819, alpha=0.1997, rate=0.8652\n",
      "iteration 8, f(x) = 985.3114, ||gradient(f(x))|| = 6.281239, alpha=0.1668, rate=0.8644\n",
      "iteration 9, f(x) = 989.2651, ||gradient(f(x))|| = 6.441776, alpha=0.2004, rate=0.8618\n",
      "iteration 10, f(x) = 992.7372, ||gradient(f(x))|| = 5.501094, alpha=0.1673, rate=0.8583\n",
      "iteration 11, f(x) = 995.7661, ||gradient(f(x))|| = 5.598181, alpha=0.2002, rate=0.8550\n",
      "iteration 12, f(x) = 998.3907, ||gradient(f(x))|| = 4.757223, alpha=0.1675, rate=0.8521\n",
      "iteration 13, f(x) = 1000.6510, ||gradient(f(x))|| = 4.810292, alpha=0.1998, rate=0.8496\n",
      "iteration 14, f(x) = 1002.5885, ||gradient(f(x))|| = 4.073520, alpha=0.1675, rate=0.8476\n",
      "iteration 15, f(x) = 1004.2421, ||gradient(f(x))|| = 4.100520, alpha=0.1993, rate=0.8458\n",
      "iteration 16, f(x) = 1005.6491, ||gradient(f(x))|| = 3.464689, alpha=0.1674, rate=0.8444\n",
      "iteration 17, f(x) = 1006.8425, ||gradient(f(x))|| = 3.476791, alpha=0.1988, rate=0.8433\n",
      "iteration 18, f(x) = 1007.8530, ||gradient(f(x))|| = 2.933375, alpha=0.1672, rate=0.8423\n",
      "iteration 19, f(x) = 1008.7066, ||gradient(f(x))|| = 2.937085, alpha=0.1984, rate=0.8415\n",
      "iteration 20, f(x) = 1009.4268, ||gradient(f(x))|| = 2.475596, alpha=0.1670, rate=0.8409\n",
      "iteration 21, f(x) = 1010.0336, ||gradient(f(x))|| = 2.474757, alpha=0.1980, rate=0.8404\n",
      "iteration 22, f(x) = 1010.5443, ||gradient(f(x))|| = 2.084557, alpha=0.1668, rate=0.8400\n",
      "iteration 23, f(x) = 1010.9737, ||gradient(f(x))|| = 2.081474, alpha=0.1977, rate=0.8397\n",
      "iteration 24, f(x) = 1011.3347, ||gradient(f(x))|| = 1.752577, alpha=0.1666, rate=0.8394\n",
      "iteration 25, f(x) = 1011.6377, ||gradient(f(x))|| = 1.748607, alpha=0.1974, rate=0.8392\n",
      "iteration 26, f(x) = 1011.8922, ||gradient(f(x))|| = 1.471986, alpha=0.1664, rate=0.8391\n",
      "iteration 27, f(x) = 1012.1058, ||gradient(f(x))|| = 1.467895, alpha=0.1971, rate=0.8391\n",
      "iteration 28, f(x) = 1012.2849, ||gradient(f(x))|| = 1.235582, alpha=0.1663, rate=0.8390\n",
      "iteration 29, f(x) = 1012.4352, ||gradient(f(x))|| = 1.231763, alpha=0.1969, rate=0.8390\n",
      "iteration 30, f(x) = 1012.5613, ||gradient(f(x))|| = 1.036839, alpha=0.1662, rate=0.8391\n",
      "iteration 31, f(x) = 1012.6671, ||gradient(f(x))|| = 1.033464, alpha=0.1967, rate=0.8391\n",
      "iteration 32, f(x) = 1012.7558, ||gradient(f(x))|| = 0.869992, alpha=0.1661, rate=0.8392\n",
      "iteration 33, f(x) = 1012.8302, ||gradient(f(x))|| = 0.867106, alpha=0.1966, rate=0.8393\n",
      "iteration 34, f(x) = 1012.8926, ||gradient(f(x))|| = 0.730039, alpha=0.1660, rate=0.8394\n",
      "iteration 35, f(x) = 1012.9450, ||gradient(f(x))|| = 0.727622, alpha=0.1965, rate=0.8394\n",
      "iteration 36, f(x) = 1012.9889, ||gradient(f(x))|| = 0.612691, alpha=0.1660, rate=0.8395\n",
      "iteration 37, f(x) = 1013.0258, ||gradient(f(x))|| = 0.610693, alpha=0.1964, rate=0.8396\n",
      "iteration 38, f(x) = 1013.0567, ||gradient(f(x))|| = 0.514309, alpha=0.1659, rate=0.8397\n",
      "iteration 39, f(x) = 1013.0827, ||gradient(f(x))|| = 0.512670, alpha=0.1963, rate=0.8398\n",
      "iteration 40, f(x) = 1013.1045, ||gradient(f(x))|| = 0.431822, alpha=0.1659, rate=0.8399\n",
      "iteration 41, f(x) = 1013.1228, ||gradient(f(x))|| = 0.430484, alpha=0.1963, rate=0.8400\n",
      "iteration 42, f(x) = 1013.1381, ||gradient(f(x))|| = 0.362648, alpha=0.1659, rate=0.8401\n",
      "iteration 43, f(x) = 1013.1510, ||gradient(f(x))|| = 0.361557, alpha=0.1963, rate=0.8402\n",
      "iteration 44, f(x) = 1013.1619, ||gradient(f(x))|| = 0.304623, alpha=0.1658, rate=0.8403\n",
      "iteration 45, f(x) = 1013.1710, ||gradient(f(x))|| = 0.303734, alpha=0.1962, rate=0.8404\n",
      "iteration 46, f(x) = 1013.1786, ||gradient(f(x))|| = 0.255936, alpha=0.1658, rate=0.8404\n",
      "iteration 47, f(x) = 1013.1851, ||gradient(f(x))|| = 0.255211, alpha=0.1962, rate=0.8405\n",
      "iteration 48, f(x) = 1013.1905, ||gradient(f(x))|| = 0.215072, alpha=0.1658, rate=0.8406\n",
      "iteration 49, f(x) = 1013.1950, ||gradient(f(x))|| = 0.214479, alpha=0.1962, rate=0.8406\n",
      "iteration 50, f(x) = 1013.1988, ||gradient(f(x))|| = 0.180764, alpha=0.1658, rate=0.8407\n",
      "iteration 51, f(x) = 1013.2020, ||gradient(f(x))|| = 0.180278, alpha=0.1961, rate=0.8407\n",
      "iteration 52, f(x) = 1013.2047, ||gradient(f(x))|| = 0.151952, alpha=0.1658, rate=0.8408\n",
      "iteration 53, f(x) = 1013.2070, ||gradient(f(x))|| = 0.151553, alpha=0.1961, rate=0.8408\n",
      "iteration 54, f(x) = 1013.2089, ||gradient(f(x))|| = 0.127749, alpha=0.1657, rate=0.8409\n",
      "iteration 55, f(x) = 1013.2105, ||gradient(f(x))|| = 0.127421, alpha=0.1961, rate=0.8409\n",
      "iteration 56, f(x) = 1013.2118, ||gradient(f(x))|| = 0.107415, alpha=0.1657, rate=0.8410\n",
      "iteration 57, f(x) = 1013.2130, ||gradient(f(x))|| = 0.107144, alpha=0.1961, rate=0.8410\n",
      "iteration 58, f(x) = 1013.2139, ||gradient(f(x))|| = 0.090326, alpha=0.1657, rate=0.8410\n",
      "iteration 59, f(x) = 1013.2147, ||gradient(f(x))|| = 0.090102, alpha=0.1961, rate=0.8411\n",
      "iteration 60, f(x) = 1013.2154, ||gradient(f(x))|| = 0.075963, alpha=0.1657, rate=0.8411\n",
      "iteration 61, f(x) = 1013.2159, ||gradient(f(x))|| = 0.075777, alpha=0.1961, rate=0.8411\n",
      "iteration 62, f(x) = 1013.2164, ||gradient(f(x))|| = 0.063888, alpha=0.1657, rate=0.8411\n",
      "iteration 63, f(x) = 1013.2168, ||gradient(f(x))|| = 0.063735, alpha=0.1961, rate=0.8412\n",
      "iteration 64, f(x) = 1013.2172, ||gradient(f(x))|| = 0.053737, alpha=0.1657, rate=0.8412\n",
      "iteration 65, f(x) = 1013.2174, ||gradient(f(x))|| = 0.053609, alpha=0.1961, rate=0.8412\n",
      "iteration 66, f(x) = 1013.2177, ||gradient(f(x))|| = 0.045201, alpha=0.1657, rate=0.8412\n",
      "iteration 67, f(x) = 1013.2179, ||gradient(f(x))|| = 0.045094, alpha=0.1961, rate=0.8412\n",
      "iteration 68, f(x) = 1013.2180, ||gradient(f(x))|| = 0.038023, alpha=0.1657, rate=0.8413\n",
      "iteration 69, f(x) = 1013.2182, ||gradient(f(x))|| = 0.037934, alpha=0.1961, rate=0.8413\n",
      "iteration 70, f(x) = 1013.2183, ||gradient(f(x))|| = 0.031986, alpha=0.1657, rate=0.8413\n",
      "iteration 71, f(x) = 1013.2184, ||gradient(f(x))|| = 0.031912, alpha=0.1961, rate=0.8413\n",
      "iteration 72, f(x) = 1013.2185, ||gradient(f(x))|| = 0.026908, alpha=0.1657, rate=0.8413\n",
      "iteration 73, f(x) = 1013.2186, ||gradient(f(x))|| = 0.026846, alpha=0.1961, rate=0.8413\n",
      "iteration 74, f(x) = 1013.2186, ||gradient(f(x))|| = 0.022638, alpha=0.1657, rate=0.8413\n",
      "iteration 75, f(x) = 1013.2187, ||gradient(f(x))|| = 0.022586, alpha=0.1961, rate=0.8413\n",
      "iteration 76, f(x) = 1013.2187, ||gradient(f(x))|| = 0.019045, alpha=0.1657, rate=0.8413\n",
      "iteration 77, f(x) = 1013.2188, ||gradient(f(x))|| = 0.019002, alpha=0.1961, rate=0.8413\n",
      "iteration 78, f(x) = 1013.2188, ||gradient(f(x))|| = 0.016023, alpha=0.1657, rate=0.8414\n",
      "iteration 79, f(x) = 1013.2188, ||gradient(f(x))|| = 0.015987, alpha=0.1961, rate=0.8414\n",
      "iteration 80, f(x) = 1013.2188, ||gradient(f(x))|| = 0.013481, alpha=0.1657, rate=0.8414\n",
      "iteration 81, f(x) = 1013.2188, ||gradient(f(x))|| = 0.013450, alpha=0.1961, rate=0.8414\n",
      "iteration 82, f(x) = 1013.2189, ||gradient(f(x))|| = 0.011342, alpha=0.1657, rate=0.8414\n",
      "iteration 83, f(x) = 1013.2189, ||gradient(f(x))|| = 0.011317, alpha=0.1961, rate=0.8414\n",
      "iteration 84, f(x) = 1013.2189, ||gradient(f(x))|| = 0.009543, alpha=0.1657, rate=0.8414\n",
      "iteration 85, f(x) = 1013.2189, ||gradient(f(x))|| = 0.009522, alpha=0.1961, rate=0.8414\n",
      "iteration 86, f(x) = 1013.2189, ||gradient(f(x))|| = 0.008029, alpha=0.1657, rate=0.8414\n",
      "iteration 87, f(x) = 1013.2189, ||gradient(f(x))|| = 0.008011, alpha=0.1961, rate=0.8414\n",
      "iteration 88, f(x) = 1013.2189, ||gradient(f(x))|| = 0.006756, alpha=0.1657, rate=0.8414\n",
      "iteration 89, f(x) = 1013.2189, ||gradient(f(x))|| = 0.006741, alpha=0.1960, rate=0.8414\n",
      "iteration 90, f(x) = 1013.2189, ||gradient(f(x))|| = 0.005684, alpha=0.1657, rate=0.8414\n",
      "iteration 91, f(x) = 1013.2189, ||gradient(f(x))|| = 0.005672, alpha=0.1960, rate=0.8414\n",
      "iteration 92, f(x) = 1013.2189, ||gradient(f(x))|| = 0.004783, alpha=0.1657, rate=0.8414\n",
      "iteration 93, f(x) = 1013.2189, ||gradient(f(x))|| = 0.004772, alpha=0.1960, rate=0.8414\n",
      "iteration 94, f(x) = 1013.2189, ||gradient(f(x))|| = 0.004024, alpha=0.1657, rate=0.8414\n",
      "iteration 95, f(x) = 1013.2189, ||gradient(f(x))|| = 0.004015, alpha=0.1960, rate=0.8414\n",
      "iteration 96, f(x) = 1013.2189, ||gradient(f(x))|| = 0.003386, alpha=0.1657, rate=0.8414\n",
      "iteration 97, f(x) = 1013.2189, ||gradient(f(x))|| = 0.003378, alpha=0.1960, rate=0.8414\n",
      "iteration 98, f(x) = 1013.2189, ||gradient(f(x))|| = 0.002849, alpha=0.1657, rate=0.8414\n",
      "iteration 99, f(x) = 1013.2189, ||gradient(f(x))|| = 0.002843, alpha=0.1960, rate=0.8414\n",
      "iteration 100, f(x) = 1013.2189, ||gradient(f(x))|| = 0.002397, alpha=0.1657, rate=0.8414\n",
      "iteration 101, f(x) = 1013.2189, ||gradient(f(x))|| = 0.002392, alpha=0.1960, rate=0.8414\n",
      "iteration 102, f(x) = 1013.2189, ||gradient(f(x))|| = 0.002017, alpha=0.1657, rate=0.8414\n",
      "iteration 103, f(x) = 1013.2189, ||gradient(f(x))|| = 0.002013, alpha=0.1960, rate=0.8414\n",
      "iteration 104, f(x) = 1013.2189, ||gradient(f(x))|| = 0.001697, alpha=0.1657, rate=0.8414\n",
      "iteration 105, f(x) = 1013.2189, ||gradient(f(x))|| = 0.001693, alpha=0.1960, rate=0.8414\n",
      "iteration 106, f(x) = 1013.2189, ||gradient(f(x))|| = 0.001428, alpha=0.1657, rate=0.8414\n",
      "iteration 107, f(x) = 1013.2189, ||gradient(f(x))|| = 0.001425, alpha=0.1960, rate=0.8414\n",
      "iteration 108, f(x) = 1013.2189, ||gradient(f(x))|| = 0.001202, alpha=0.1657, rate=0.8414\n",
      "iteration 109, f(x) = 1013.2189, ||gradient(f(x))|| = 0.001199, alpha=0.1960, rate=0.8414\n",
      "iteration 110, f(x) = 1013.2189, ||gradient(f(x))|| = 0.001011, alpha=0.1657, rate=0.8414\n",
      "iteration 111, f(x) = 1013.2189, ||gradient(f(x))|| = 0.001009, alpha=0.1960, rate=0.8414\n",
      "iteration 112, f(x) = 1013.2189, ||gradient(f(x))|| = 0.000851, alpha=0.1657, rate=0.8414\n",
      "iteration 113, f(x) = 1013.2189, ||gradient(f(x))|| = 0.000849, alpha=0.1960, rate=0.8414\n",
      "iteration 114, f(x) = 1013.2189, ||gradient(f(x))|| = 0.000716, alpha=0.1657, rate=0.8414\n",
      "iteration 115, f(x) = 1013.2189, ||gradient(f(x))|| = 0.000714, alpha=0.1960, rate=0.8414\n",
      "iteration 116, f(x) = 1013.2189, ||gradient(f(x))|| = 0.000602, alpha=0.1657, rate=0.8414\n",
      "iteration 117, f(x) = 1013.2189, ||gradient(f(x))|| = 0.000601, alpha=0.1960, rate=0.8414\n",
      "iteration 118, f(x) = 1013.2189, ||gradient(f(x))|| = 0.000507, alpha=0.1657, rate=0.8414\n",
      "iteration 119, f(x) = 1013.2189, ||gradient(f(x))|| = 0.000506, alpha=0.1960, rate=0.8414\n",
      "iteration 120, f(x) = 1013.2189, ||gradient(f(x))|| = 0.000426, alpha=0.1657, rate=0.8414\n",
      "iteration 121, f(x) = 1013.2189, ||gradient(f(x))|| = 0.000426, alpha=0.1960, rate=0.8414\n",
      "iteration 122, f(x) = 1013.2189, ||gradient(f(x))|| = 0.000359, alpha=0.1657, rate=0.8414\n",
      "iteration 123, f(x) = 1013.2189, ||gradient(f(x))|| = 0.000358, alpha=0.1960, rate=0.8414\n",
      "iteration 124, f(x) = 1013.2189, ||gradient(f(x))|| = 0.000302, alpha=0.1657, rate=0.8414\n",
      "iteration 125, f(x) = 1013.2189, ||gradient(f(x))|| = 0.000301, alpha=0.1960, rate=0.8414\n",
      "iteration 126, f(x) = 1013.2189, ||gradient(f(x))|| = 0.000254, alpha=0.1657, rate=0.8414\n",
      "iteration 127, f(x) = 1013.2189, ||gradient(f(x))|| = 0.000254, alpha=0.1960, rate=0.8414\n",
      "iteration 128, f(x) = 1013.2189, ||gradient(f(x))|| = 0.000214, alpha=0.1657, rate=0.8414\n",
      "iteration 129, f(x) = 1013.2189, ||gradient(f(x))|| = 0.000213, alpha=0.1960, rate=0.8414\n",
      "iteration 130, f(x) = 1013.2189, ||gradient(f(x))|| = 0.000180, alpha=0.1657, rate=0.8414\n",
      "iteration 131, f(x) = 1013.2189, ||gradient(f(x))|| = 0.000179, alpha=0.1960, rate=0.8414\n",
      "iteration 132, f(x) = 1013.2189, ||gradient(f(x))|| = 0.000151, alpha=0.1657, rate=0.8415\n",
      "iteration 133, f(x) = 1013.2189, ||gradient(f(x))|| = 0.000151, alpha=0.1960, rate=0.8414\n",
      "iteration 134, f(x) = 1013.2189, ||gradient(f(x))|| = 0.000127, alpha=0.1657, rate=0.8414\n",
      "iteration 135, f(x) = 1013.2189, ||gradient(f(x))|| = 0.000127, alpha=0.1960, rate=0.8415\n",
      "iteration 136, f(x) = 1013.2189, ||gradient(f(x))|| = 0.000107, alpha=0.1657, rate=0.8415\n",
      "iteration 137, f(x) = 1013.2189, ||gradient(f(x))|| = 0.000107, alpha=0.1960, rate=0.8414\n",
      "iteration 138, f(x) = 1013.2189, ||gradient(f(x))|| = 0.000090, alpha=0.1657, rate=0.8415\n",
      "iteration 139, f(x) = 1013.2189, ||gradient(f(x))|| = 0.000090, alpha=0.1960, rate=0.8414\n",
      "iteration 140, f(x) = 1013.2189, ||gradient(f(x))|| = 0.000076, alpha=0.1657, rate=0.8414\n",
      "iteration 141, f(x) = 1013.2189, ||gradient(f(x))|| = 0.000076, alpha=0.1960, rate=0.8415\n",
      "iteration 142, f(x) = 1013.2189, ||gradient(f(x))|| = 0.000064, alpha=0.1657, rate=0.8415\n",
      "iteration 143, f(x) = 1013.2189, ||gradient(f(x))|| = 0.000064, alpha=0.1960, rate=0.8414\n",
      "iteration 144, f(x) = 1013.2189, ||gradient(f(x))|| = 0.000054, alpha=0.1657, rate=0.8416\n",
      "iteration 145, f(x) = 1013.2189, ||gradient(f(x))|| = 0.000054, alpha=0.1960, rate=0.8416\n",
      "iteration 146, f(x) = 1013.2189, ||gradient(f(x))|| = 0.000045, alpha=0.1657, rate=0.8411\n",
      "iteration 147, f(x) = 1013.2189, ||gradient(f(x))|| = 0.000045, alpha=0.1960, rate=0.8417\n",
      "iteration 148, f(x) = 1013.2189, ||gradient(f(x))|| = 0.000038, alpha=0.1657, rate=0.8414\n",
      "iteration 149, f(x) = 1013.2189, ||gradient(f(x))|| = 0.000038, alpha=0.1960, rate=0.8415\n",
      "iteration 150, f(x) = 1013.2189, ||gradient(f(x))|| = 0.000032, alpha=0.1657, rate=0.8416\n",
      "iteration 151, f(x) = 1013.2189, ||gradient(f(x))|| = 0.000032, alpha=0.1960, rate=0.8419\n",
      "iteration 152, f(x) = 1013.2189, ||gradient(f(x))|| = 0.000027, alpha=0.1657, rate=0.8411\n",
      "iteration 153, f(x) = 1013.2189, ||gradient(f(x))|| = 0.000027, alpha=0.1960, rate=0.8409\n",
      "iteration 154, f(x) = 1013.2189, ||gradient(f(x))|| = 0.000023, alpha=0.1657, rate=0.8420\n",
      "iteration 155, f(x) = 1013.2189, ||gradient(f(x))|| = 0.000023, alpha=0.1960, rate=0.8419\n",
      "iteration 156, f(x) = 1013.2189, ||gradient(f(x))|| = 0.000019, alpha=0.1657, rate=0.8416\n",
      "iteration 157, f(x) = 1013.2189, ||gradient(f(x))|| = 0.000019, alpha=0.1960, rate=0.8428\n",
      "iteration 158, f(x) = 1013.2189, ||gradient(f(x))|| = 0.000016, alpha=0.1657, rate=0.8396\n",
      "iteration 159, f(x) = 1013.2189, ||gradient(f(x))|| = 0.000016, alpha=0.1960, rate=0.8414\n",
      "iteration 160, f(x) = 1013.2189, ||gradient(f(x))|| = 0.000014, alpha=0.1657, rate=0.8415\n",
      "iteration 161, f(x) = 1013.2189, ||gradient(f(x))|| = 0.000013, alpha=0.1960, rate=0.8473\n",
      "iteration 162, f(x) = 1013.2189, ||gradient(f(x))|| = 0.000011, alpha=0.1657, rate=0.8388\n",
      "iteration 163, f(x) = 1013.2189, ||gradient(f(x))|| = 0.000011, alpha=0.1960, rate=0.8413\n",
      "iteration 164, f(x) = 1013.2189, ||gradient(f(x))|| = 0.000010, alpha=0.1657, rate=0.8426\n",
      "optimal value reached\n",
      "[end]\n"
     ]
    }
   ],
   "source": [
    "optimizerSGD = GD.GradientDescent(f, initial_vector, 1e-5, fstar = norm, verbose = True)\n",
    "gradientSGD, normsSGD, errorsSGD = optimizerSGD.run(500)"
   ]
  },
  {
   "cell_type": "code",
   "execution_count": 8,
   "id": "3f776833",
   "metadata": {
    "scrolled": true
   },
   "outputs": [
    {
     "data": {
      "image/png": "[encoded data removed]",
      "text/plain": [
       "<Figure size 1440x576 with 2 Axes>"
      ]
     },
     "metadata": {
      "needs_background": "light"
     },
     "output_type": "display_data"
    }
   ],
   "source": [
    "make_plot(gradientSGD, errorsSGD,plot_path='plot-gd/', type='M1')"
   ]
  },
  {
   "cell_type": "markdown",
   "id": "6a2d4dbd",
   "metadata": {},
   "source": [
    "### Time comparison"
   ]
  },
  {
   "cell_type": "raw",
   "id": "cc778d52",
   "metadata": {
    "scrolled": true
   },
   "source": [
    "%%timeit -r 100 -n 10\n",
    "# Optimizer SGD\n",
    "f = nf.Norm(M1)\n",
    "optimizerSGD = GD.GradientDescent(f, initial_vector, 1e-5, fstar = norm, verbose = False)\n",
    "gradientSGD, normsSGD, errorsSGD = optimizerSGD.run(500)"
   ]
  },
  {
   "cell_type": "raw",
   "id": "41f4b3f8",
   "metadata": {},
   "source": [
    "%%timeit -r 100 -n 10\n",
    "# Norm numpy\n",
    "norm = la.norm(M1, ord=2) ** 2"
   ]
  },
  {
   "cell_type": "markdown",
   "id": "fe30ab22",
   "metadata": {},
   "source": [
    "# Experiments on Matrix M2"
   ]
  },
  {
   "cell_type": "code",
   "execution_count": 9,
   "id": "dd2a45da",
   "metadata": {},
   "outputs": [],
   "source": [
    "f = nf.Norm(M2)"
   ]
  },
  {
   "cell_type": "code",
   "execution_count": 10,
   "id": "870952f2",
   "metadata": {},
   "outputs": [],
   "source": [
    "initial_vector = f.init_x()"
   ]
  },
  {
   "cell_type": "code",
   "execution_count": 11,
   "id": "5b2e3ebf",
   "metadata": {},
   "outputs": [],
   "source": [
    "norm = la.norm(M2, ord=2) ** 2"
   ]
  },
  {
   "cell_type": "code",
   "execution_count": 12,
   "id": "19c3f60d",
   "metadata": {},
   "outputs": [
    {
     "name": "stdout",
     "output_type": "stream",
     "text": [
      "[start]\n",
      "iteration 0, f(x) = 2344.9953, ||gradient(f(x))|| = 68.722119, alpha=0.0257, rate=0.0000\n",
      "iteration 1, f(x) = 2444.7256, ||gradient(f(x))|| = 53.531038, alpha=0.0422, rate=0.5139\n",
      "iteration 2, f(x) = 2496.6640, ||gradient(f(x))|| = 42.263035, alpha=0.0362, rate=0.6650\n",
      "iteration 3, f(x) = 2539.4593, ||gradient(f(x))|| = 42.832110, alpha=0.0479, rate=0.7377\n",
      "iteration 4, f(x) = 2573.2776, ||gradient(f(x))|| = 31.999717, alpha=0.0369, rate=0.7070\n",
      "iteration 5, f(x) = 2596.7508, ||gradient(f(x))|| = 28.619047, alpha=0.0458, rate=0.6726\n",
      "iteration 6, f(x) = 2611.8344, ||gradient(f(x))|| = 20.254921, alpha=0.0368, rate=0.6621\n",
      "iteration 7, f(x) = 2621.2419, ||gradient(f(x))|| = 17.774405, alpha=0.0459, rate=0.6720\n",
      "iteration 8, f(x) = 2627.1567, ||gradient(f(x))|| = 12.846113, alpha=0.0374, rate=0.6956\n",
      "iteration 9, f(x) = 2631.0192, ||gradient(f(x))|| = 11.704185, alpha=0.0468, rate=0.7248\n",
      "iteration 10, f(x) = 2633.6381, ||gradient(f(x))|| = 8.831419, alpha=0.0382, rate=0.7521\n",
      "iteration 11, f(x) = 2635.5041, ||gradient(f(x))|| = 8.415303, alpha=0.0479, rate=0.7765\n",
      "iteration 12, f(x) = 2636.8806, ||gradient(f(x))|| = 6.585599, alpha=0.0389, rate=0.7949\n",
      "iteration 13, f(x) = 2637.9345, ||gradient(f(x))|| = 6.484157, alpha=0.0486, rate=0.8097\n",
      "iteration 14, f(x) = 2638.7604, ||gradient(f(x))|| = 5.195574, alpha=0.0393, rate=0.8201\n",
      "iteration 15, f(x) = 2639.4224, ||gradient(f(x))|| = 5.218315, alpha=0.0491, rate=0.8281\n",
      "iteration 16, f(x) = 2639.9604, ||gradient(f(x))|| = 4.239074, alpha=0.0395, rate=0.8336\n",
      "iteration 17, f(x) = 2640.4032, ||gradient(f(x))|| = 4.305261, alpha=0.0493, rate=0.8377\n",
      "iteration 18, f(x) = 2640.7705, ||gradient(f(x))|| = 3.523884, alpha=0.0396, rate=0.8406\n",
      "iteration 19, f(x) = 2641.0772, ||gradient(f(x))|| = 3.600051, alpha=0.0494, rate=0.8427\n",
      "iteration 20, f(x) = 2641.3344, ||gradient(f(x))|| = 2.958472, alpha=0.0397, rate=0.8441\n",
      "iteration 21, f(x) = 2641.5507, ||gradient(f(x))|| = 3.031385, alpha=0.0494, rate=0.8451\n",
      "iteration 22, f(x) = 2641.7332, ||gradient(f(x))|| = 2.496248, alpha=0.0397, rate=0.8458\n",
      "iteration 23, f(x) = 2641.8872, ||gradient(f(x))|| = 2.561360, alpha=0.0494, rate=0.8463\n",
      "iteration 24, f(x) = 2642.0175, ||gradient(f(x))|| = 2.111335, alpha=0.0397, rate=0.8467\n",
      "iteration 25, f(x) = 2642.1277, ||gradient(f(x))|| = 2.167729, alpha=0.0494, rate=0.8469\n",
      "iteration 26, f(x) = 2642.2209, ||gradient(f(x))|| = 1.787736, alpha=0.0397, rate=0.8470\n",
      "iteration 27, f(x) = 2642.2999, ||gradient(f(x))|| = 1.835906, alpha=0.0494, rate=0.8471\n",
      "iteration 28, f(x) = 2642.3668, ||gradient(f(x))|| = 1.514430, alpha=0.0397, rate=0.8472\n",
      "iteration 29, f(x) = 2642.4235, ||gradient(f(x))|| = 1.555328, alpha=0.0494, rate=0.8472\n",
      "iteration 30, f(x) = 2642.4715, ||gradient(f(x))|| = 1.283127, alpha=0.0397, rate=0.8473\n",
      "iteration 31, f(x) = 2642.5121, ||gradient(f(x))|| = 1.317771, alpha=0.0494, rate=0.8473\n",
      "iteration 32, f(x) = 2642.5466, ||gradient(f(x))|| = 1.087212, alpha=0.0397, rate=0.8473\n",
      "iteration 33, f(x) = 2642.5758, ||gradient(f(x))|| = 1.116543, alpha=0.0494, rate=0.8474\n",
      "iteration 34, f(x) = 2642.6005, ||gradient(f(x))|| = 0.921231, alpha=0.0397, rate=0.8474\n",
      "iteration 35, f(x) = 2642.6214, ||gradient(f(x))|| = 0.946069, alpha=0.0494, rate=0.8474\n",
      "iteration 36, f(x) = 2642.6392, ||gradient(f(x))|| = 0.780607, alpha=0.0397, rate=0.8474\n",
      "iteration 37, f(x) = 2642.6542, ||gradient(f(x))|| = 0.801650, alpha=0.0494, rate=0.8475\n",
      "iteration 38, f(x) = 2642.6670, ||gradient(f(x))|| = 0.661473, alpha=0.0397, rate=0.8475\n",
      "iteration 39, f(x) = 2642.6778, ||gradient(f(x))|| = 0.679311, alpha=0.0494, rate=0.8475\n",
      "iteration 40, f(x) = 2642.6869, ||gradient(f(x))|| = 0.560550, alpha=0.0397, rate=0.8476\n",
      "iteration 41, f(x) = 2642.6947, ||gradient(f(x))|| = 0.575678, alpha=0.0494, rate=0.8476\n",
      "iteration 42, f(x) = 2642.7012, ||gradient(f(x))|| = 0.475056, alpha=0.0397, rate=0.8476\n",
      "iteration 43, f(x) = 2642.7068, ||gradient(f(x))|| = 0.487890, alpha=0.0494, rate=0.8477\n",
      "iteration 44, f(x) = 2642.7115, ||gradient(f(x))|| = 0.402631, alpha=0.0397, rate=0.8477\n",
      "iteration 45, f(x) = 2642.7155, ||gradient(f(x))|| = 0.413523, alpha=0.0493, rate=0.8477\n",
      "iteration 46, f(x) = 2642.7189, ||gradient(f(x))|| = 0.341276, alpha=0.0397, rate=0.8478\n",
      "iteration 47, f(x) = 2642.7218, ||gradient(f(x))|| = 0.350521, alpha=0.0493, rate=0.8478\n",
      "iteration 48, f(x) = 2642.7242, ||gradient(f(x))|| = 0.289295, alpha=0.0397, rate=0.8479\n",
      "iteration 49, f(x) = 2642.7263, ||gradient(f(x))|| = 0.297144, alpha=0.0493, rate=0.8479\n",
      "iteration 50, f(x) = 2642.7281, ||gradient(f(x))|| = 0.245252, alpha=0.0397, rate=0.8479\n",
      "iteration 51, f(x) = 2642.7295, ||gradient(f(x))|| = 0.251917, alpha=0.0493, rate=0.8480\n",
      "iteration 52, f(x) = 2642.7308, ||gradient(f(x))|| = 0.207932, alpha=0.0397, rate=0.8480\n",
      "iteration 53, f(x) = 2642.7319, ||gradient(f(x))|| = 0.213591, alpha=0.0493, rate=0.8480\n",
      "iteration 54, f(x) = 2642.7328, ||gradient(f(x))|| = 0.176306, alpha=0.0397, rate=0.8481\n",
      "iteration 55, f(x) = 2642.7335, ||gradient(f(x))|| = 0.181112, alpha=0.0493, rate=0.8481\n",
      "iteration 56, f(x) = 2642.7342, ||gradient(f(x))|| = 0.149502, alpha=0.0397, rate=0.8481\n",
      "iteration 57, f(x) = 2642.7347, ||gradient(f(x))|| = 0.153584, alpha=0.0493, rate=0.8482\n",
      "iteration 58, f(x) = 2642.7352, ||gradient(f(x))|| = 0.126783, alpha=0.0397, rate=0.8482\n",
      "iteration 59, f(x) = 2642.7356, ||gradient(f(x))|| = 0.130249, alpha=0.0493, rate=0.8482\n",
      "iteration 60, f(x) = 2642.7359, ||gradient(f(x))|| = 0.107525, alpha=0.0397, rate=0.8482\n",
      "iteration 61, f(x) = 2642.7362, ||gradient(f(x))|| = 0.110468, alpha=0.0493, rate=0.8483\n",
      "iteration 62, f(x) = 2642.7365, ||gradient(f(x))|| = 0.091198, alpha=0.0397, rate=0.8483\n",
      "iteration 63, f(x) = 2642.7367, ||gradient(f(x))|| = 0.093698, alpha=0.0493, rate=0.8483\n",
      "iteration 64, f(x) = 2642.7368, ||gradient(f(x))|| = 0.077356, alpha=0.0397, rate=0.8483\n",
      "iteration 65, f(x) = 2642.7370, ||gradient(f(x))|| = 0.079479, alpha=0.0493, rate=0.8484\n",
      "iteration 66, f(x) = 2642.7371, ||gradient(f(x))|| = 0.065619, alpha=0.0397, rate=0.8484\n",
      "iteration 67, f(x) = 2642.7372, ||gradient(f(x))|| = 0.067422, alpha=0.0493, rate=0.8484\n",
      "iteration 68, f(x) = 2642.7373, ||gradient(f(x))|| = 0.055666, alpha=0.0397, rate=0.8484\n",
      "iteration 69, f(x) = 2642.7374, ||gradient(f(x))|| = 0.057197, alpha=0.0493, rate=0.8485\n",
      "iteration 70, f(x) = 2642.7375, ||gradient(f(x))|| = 0.047225, alpha=0.0397, rate=0.8485\n",
      "iteration 71, f(x) = 2642.7375, ||gradient(f(x))|| = 0.048525, alpha=0.0493, rate=0.8485\n",
      "iteration 72, f(x) = 2642.7376, ||gradient(f(x))|| = 0.040066, alpha=0.0397, rate=0.8485\n",
      "iteration 73, f(x) = 2642.7376, ||gradient(f(x))|| = 0.041171, alpha=0.0493, rate=0.8485\n",
      "iteration 74, f(x) = 2642.7376, ||gradient(f(x))|| = 0.033994, alpha=0.0397, rate=0.8485\n",
      "iteration 75, f(x) = 2642.7377, ||gradient(f(x))|| = 0.034932, alpha=0.0493, rate=0.8486\n",
      "iteration 76, f(x) = 2642.7377, ||gradient(f(x))|| = 0.028844, alpha=0.0397, rate=0.8486\n",
      "iteration 77, f(x) = 2642.7377, ||gradient(f(x))|| = 0.029641, alpha=0.0494, rate=0.8486\n",
      "iteration 78, f(x) = 2642.7377, ||gradient(f(x))|| = 0.024475, alpha=0.0397, rate=0.8486\n",
      "iteration 79, f(x) = 2642.7377, ||gradient(f(x))|| = 0.025152, alpha=0.0494, rate=0.8486\n",
      "iteration 80, f(x) = 2642.7377, ||gradient(f(x))|| = 0.020769, alpha=0.0397, rate=0.8486\n",
      "iteration 81, f(x) = 2642.7378, ||gradient(f(x))|| = 0.021343, alpha=0.0494, rate=0.8487\n",
      "iteration 82, f(x) = 2642.7378, ||gradient(f(x))|| = 0.017624, alpha=0.0397, rate=0.8487\n",
      "iteration 83, f(x) = 2642.7378, ||gradient(f(x))|| = 0.018112, alpha=0.0494, rate=0.8487\n",
      "iteration 84, f(x) = 2642.7378, ||gradient(f(x))|| = 0.014957, alpha=0.0397, rate=0.8487\n",
      "iteration 85, f(x) = 2642.7378, ||gradient(f(x))|| = 0.015371, alpha=0.0494, rate=0.8487\n",
      "iteration 86, f(x) = 2642.7378, ||gradient(f(x))|| = 0.012693, alpha=0.0397, rate=0.8487\n",
      "iteration 87, f(x) = 2642.7378, ||gradient(f(x))|| = 0.013045, alpha=0.0494, rate=0.8487\n",
      "iteration 88, f(x) = 2642.7378, ||gradient(f(x))|| = 0.010772, alpha=0.0397, rate=0.8487\n",
      "iteration 89, f(x) = 2642.7378, ||gradient(f(x))|| = 0.011071, alpha=0.0494, rate=0.8488\n",
      "iteration 90, f(x) = 2642.7378, ||gradient(f(x))|| = 0.009143, alpha=0.0397, rate=0.8488\n",
      "iteration 91, f(x) = 2642.7378, ||gradient(f(x))|| = 0.009396, alpha=0.0494, rate=0.8488\n",
      "iteration 92, f(x) = 2642.7378, ||gradient(f(x))|| = 0.007760, alpha=0.0397, rate=0.8488\n",
      "iteration 93, f(x) = 2642.7378, ||gradient(f(x))|| = 0.007975, alpha=0.0494, rate=0.8488\n",
      "iteration 94, f(x) = 2642.7378, ||gradient(f(x))|| = 0.006586, alpha=0.0397, rate=0.8488\n",
      "iteration 95, f(x) = 2642.7378, ||gradient(f(x))|| = 0.006769, alpha=0.0494, rate=0.8488\n",
      "iteration 96, f(x) = 2642.7378, ||gradient(f(x))|| = 0.005590, alpha=0.0397, rate=0.8488\n",
      "iteration 97, f(x) = 2642.7378, ||gradient(f(x))|| = 0.005745, alpha=0.0494, rate=0.8488\n",
      "iteration 98, f(x) = 2642.7378, ||gradient(f(x))|| = 0.004745, alpha=0.0397, rate=0.8488\n",
      "iteration 99, f(x) = 2642.7378, ||gradient(f(x))|| = 0.004877, alpha=0.0494, rate=0.8488\n",
      "iteration 100, f(x) = 2642.7378, ||gradient(f(x))|| = 0.004028, alpha=0.0397, rate=0.8489\n",
      "iteration 101, f(x) = 2642.7378, ||gradient(f(x))|| = 0.004140, alpha=0.0494, rate=0.8489\n",
      "iteration 102, f(x) = 2642.7378, ||gradient(f(x))|| = 0.003419, alpha=0.0397, rate=0.8489\n",
      "iteration 103, f(x) = 2642.7378, ||gradient(f(x))|| = 0.003514, alpha=0.0494, rate=0.8489\n",
      "iteration 104, f(x) = 2642.7378, ||gradient(f(x))|| = 0.002902, alpha=0.0397, rate=0.8489\n",
      "iteration 105, f(x) = 2642.7378, ||gradient(f(x))|| = 0.002983, alpha=0.0494, rate=0.8489\n",
      "iteration 106, f(x) = 2642.7378, ||gradient(f(x))|| = 0.002463, alpha=0.0397, rate=0.8489\n",
      "iteration 107, f(x) = 2642.7378, ||gradient(f(x))|| = 0.002532, alpha=0.0494, rate=0.8489\n",
      "iteration 108, f(x) = 2642.7378, ||gradient(f(x))|| = 0.002091, alpha=0.0397, rate=0.8489\n",
      "iteration 109, f(x) = 2642.7378, ||gradient(f(x))|| = 0.002149, alpha=0.0494, rate=0.8489\n",
      "iteration 110, f(x) = 2642.7378, ||gradient(f(x))|| = 0.001775, alpha=0.0397, rate=0.8489\n",
      "iteration 111, f(x) = 2642.7378, ||gradient(f(x))|| = 0.001825, alpha=0.0494, rate=0.8489\n",
      "iteration 112, f(x) = 2642.7378, ||gradient(f(x))|| = 0.001507, alpha=0.0397, rate=0.8489\n",
      "iteration 113, f(x) = 2642.7378, ||gradient(f(x))|| = 0.001549, alpha=0.0494, rate=0.8489\n",
      "iteration 114, f(x) = 2642.7378, ||gradient(f(x))|| = 0.001279, alpha=0.0397, rate=0.8489\n",
      "iteration 115, f(x) = 2642.7378, ||gradient(f(x))|| = 0.001315, alpha=0.0494, rate=0.8489\n",
      "iteration 116, f(x) = 2642.7378, ||gradient(f(x))|| = 0.001086, alpha=0.0397, rate=0.8489\n",
      "iteration 117, f(x) = 2642.7378, ||gradient(f(x))|| = 0.001116, alpha=0.0494, rate=0.8490\n",
      "iteration 118, f(x) = 2642.7378, ||gradient(f(x))|| = 0.000922, alpha=0.0397, rate=0.8490\n",
      "iteration 119, f(x) = 2642.7378, ||gradient(f(x))|| = 0.000948, alpha=0.0494, rate=0.8490\n",
      "iteration 120, f(x) = 2642.7378, ||gradient(f(x))|| = 0.000783, alpha=0.0397, rate=0.8490\n",
      "iteration 121, f(x) = 2642.7378, ||gradient(f(x))|| = 0.000805, alpha=0.0494, rate=0.8490\n",
      "iteration 122, f(x) = 2642.7378, ||gradient(f(x))|| = 0.000664, alpha=0.0397, rate=0.8490\n",
      "iteration 123, f(x) = 2642.7378, ||gradient(f(x))|| = 0.000683, alpha=0.0494, rate=0.8490\n",
      "iteration 124, f(x) = 2642.7378, ||gradient(f(x))|| = 0.000564, alpha=0.0397, rate=0.8490\n",
      "iteration 125, f(x) = 2642.7378, ||gradient(f(x))|| = 0.000580, alpha=0.0494, rate=0.8490\n",
      "iteration 126, f(x) = 2642.7378, ||gradient(f(x))|| = 0.000479, alpha=0.0397, rate=0.8490\n",
      "iteration 127, f(x) = 2642.7378, ||gradient(f(x))|| = 0.000492, alpha=0.0494, rate=0.8490\n",
      "iteration 128, f(x) = 2642.7378, ||gradient(f(x))|| = 0.000407, alpha=0.0397, rate=0.8490\n",
      "iteration 129, f(x) = 2642.7378, ||gradient(f(x))|| = 0.000418, alpha=0.0494, rate=0.8490\n",
      "iteration 130, f(x) = 2642.7378, ||gradient(f(x))|| = 0.000345, alpha=0.0397, rate=0.8490\n",
      "iteration 131, f(x) = 2642.7378, ||gradient(f(x))|| = 0.000355, alpha=0.0494, rate=0.8490\n",
      "iteration 132, f(x) = 2642.7378, ||gradient(f(x))|| = 0.000293, alpha=0.0397, rate=0.8490\n",
      "iteration 133, f(x) = 2642.7378, ||gradient(f(x))|| = 0.000301, alpha=0.0494, rate=0.8490\n",
      "iteration 134, f(x) = 2642.7378, ||gradient(f(x))|| = 0.000249, alpha=0.0397, rate=0.8490\n",
      "iteration 135, f(x) = 2642.7378, ||gradient(f(x))|| = 0.000256, alpha=0.0494, rate=0.8490\n",
      "iteration 136, f(x) = 2642.7378, ||gradient(f(x))|| = 0.000211, alpha=0.0397, rate=0.8491\n",
      "iteration 137, f(x) = 2642.7378, ||gradient(f(x))|| = 0.000217, alpha=0.0494, rate=0.8490\n",
      "iteration 138, f(x) = 2642.7378, ||gradient(f(x))|| = 0.000179, alpha=0.0397, rate=0.8490\n",
      "iteration 139, f(x) = 2642.7378, ||gradient(f(x))|| = 0.000184, alpha=0.0494, rate=0.8490\n",
      "iteration 140, f(x) = 2642.7378, ||gradient(f(x))|| = 0.000152, alpha=0.0397, rate=0.8488\n",
      "iteration 141, f(x) = 2642.7378, ||gradient(f(x))|| = 0.000157, alpha=0.0494, rate=0.8490\n",
      "iteration 142, f(x) = 2642.7378, ||gradient(f(x))|| = 0.000129, alpha=0.0397, rate=0.8490\n",
      "iteration 143, f(x) = 2642.7378, ||gradient(f(x))|| = 0.000133, alpha=0.0494, rate=0.8490\n",
      "iteration 144, f(x) = 2642.7378, ||gradient(f(x))|| = 0.000110, alpha=0.0397, rate=0.8486\n",
      "iteration 145, f(x) = 2642.7378, ||gradient(f(x))|| = 0.000113, alpha=0.0494, rate=0.8491\n",
      "iteration 146, f(x) = 2642.7378, ||gradient(f(x))|| = 0.000093, alpha=0.0397, rate=0.8491\n",
      "iteration 147, f(x) = 2642.7378, ||gradient(f(x))|| = 0.000096, alpha=0.0494, rate=0.8489\n",
      "iteration 148, f(x) = 2642.7378, ||gradient(f(x))|| = 0.000079, alpha=0.0397, rate=0.8489\n",
      "iteration 149, f(x) = 2642.7378, ||gradient(f(x))|| = 0.000081, alpha=0.0494, rate=0.8481\n",
      "iteration 150, f(x) = 2642.7378, ||gradient(f(x))|| = 0.000067, alpha=0.0397, rate=0.8486\n",
      "iteration 151, f(x) = 2642.7378, ||gradient(f(x))|| = 0.000069, alpha=0.0494, rate=0.8493\n",
      "iteration 152, f(x) = 2642.7378, ||gradient(f(x))|| = 0.000057, alpha=0.0397, rate=0.8480\n",
      "iteration 153, f(x) = 2642.7378, ||gradient(f(x))|| = 0.000059, alpha=0.0494, rate=0.8477\n",
      "iteration 154, f(x) = 2642.7378, ||gradient(f(x))|| = 0.000048, alpha=0.0397, rate=0.8504\n",
      "iteration 155, f(x) = 2642.7378, ||gradient(f(x))|| = 0.000050, alpha=0.0494, rate=0.8493\n",
      "iteration 156, f(x) = 2642.7378, ||gradient(f(x))|| = 0.000041, alpha=0.0397, rate=0.8476\n",
      "iteration 157, f(x) = 2642.7378, ||gradient(f(x))|| = 0.000042, alpha=0.0494, rate=0.8497\n",
      "iteration 158, f(x) = 2642.7378, ||gradient(f(x))|| = 0.000035, alpha=0.0397, rate=0.8463\n",
      "iteration 159, f(x) = 2642.7378, ||gradient(f(x))|| = 0.000036, alpha=0.0494, rate=0.8496\n",
      "iteration 160, f(x) = 2642.7378, ||gradient(f(x))|| = 0.000030, alpha=0.0397, rate=0.8414\n",
      "iteration 161, f(x) = 2642.7378, ||gradient(f(x))|| = 0.000030, alpha=0.0494, rate=0.8525\n",
      "iteration 162, f(x) = 2642.7378, ||gradient(f(x))|| = 0.000025, alpha=0.0397, rate=0.8429\n",
      "iteration 163, f(x) = 2642.7378, ||gradient(f(x))|| = 0.000026, alpha=0.0494, rate=0.8441\n",
      "iteration 164, f(x) = 2642.7378, ||gradient(f(x))|| = 0.000021, alpha=0.0397, rate=0.8559\n",
      "iteration 165, f(x) = 2642.7378, ||gradient(f(x))|| = 0.000022, alpha=0.0494, rate=0.8421\n",
      "iteration 166, f(x) = 2642.7378, ||gradient(f(x))|| = 0.000018, alpha=0.0397, rate=0.8375\n",
      "iteration 167, f(x) = 2642.7378, ||gradient(f(x))|| = 0.000019, alpha=0.0494, rate=0.8507\n",
      "iteration 168, f(x) = 2642.7378, ||gradient(f(x))|| = 0.000015, alpha=0.0397, rate=0.8421\n",
      "iteration 169, f(x) = 2642.7378, ||gradient(f(x))|| = 0.000016, alpha=0.0494, rate=0.8542\n",
      "iteration 170, f(x) = 2642.7378, ||gradient(f(x))|| = 0.000013, alpha=0.0397, rate=0.8415\n",
      "iteration 171, f(x) = 2642.7378, ||gradient(f(x))|| = 0.000013, alpha=0.0494, rate=0.8406\n",
      "iteration 172, f(x) = 2642.7378, ||gradient(f(x))|| = 0.000011, alpha=0.0397, rate=0.8276\n",
      "iteration 173, f(x) = 2642.7378, ||gradient(f(x))|| = 0.000011, alpha=0.0494, rate=0.8333\n",
      "iteration 174, f(x) = 2642.7378, ||gradient(f(x))|| = 0.000009, alpha=0.0397, rate=0.8250\n",
      "optimal value reached\n",
      "[end]\n"
     ]
    }
   ],
   "source": [
    "optimizerSGD = GD.GradientDescent(f, initial_vector, 1e-5, fstar = norm, verbose = True)\n",
    "gradientSGD, normsSGD, errorsSGD = optimizerSGD.run(500)"
   ]
  },
  {
   "cell_type": "code",
   "execution_count": 13,
   "id": "ae7db448",
   "metadata": {},
   "outputs": [
    {
     "data": {
      "image/png": "[encoded data removed]",
      "text/plain": [
       "<Figure size 1440x576 with 2 Axes>"
      ]
     },
     "metadata": {
      "needs_background": "light"
     },
     "output_type": "display_data"
    }
   ],
   "source": [
    "make_plot(gradientSGD, errorsSGD,plot_path='plot-gd/', type='M2')"
   ]
  },
  {
   "cell_type": "markdown",
   "id": "d0bab2c4",
   "metadata": {},
   "source": [
    "### Time comparison"
   ]
  },
  {
   "cell_type": "code",
   "execution_count": null,
   "id": "d688dcc3",
   "metadata": {},
   "outputs": [],
   "source": [
    "%%timeit -r 100 -n 10\n",
    "# Optimizer SGD\n",
    "f = nf.Norm(M2)\n",
    "optimizerSGD = GD.GradientDescent(f, initial_vector, 1e-5, fstar = norm, verbose = False)\n",
    "gradientSGD, normsSGD, errorsSGD = optimizerSGD.run(500)"
   ]
  },
  {
   "cell_type": "code",
   "execution_count": null,
   "id": "7a06aedd",
   "metadata": {},
   "outputs": [],
   "source": [
    "%%timeit -r 100 -n 10\n",
    "# Norm numpy\n",
    "norm = la.norm(M2, ord=2) ** 2"
   ]
  },
  {
   "cell_type": "markdown",
   "id": "fefdf59e",
   "metadata": {},
   "source": [
    "# Experiments on Matrix M3"
   ]
  },
  {
   "cell_type": "code",
   "execution_count": null,
   "id": "f180f15f",
   "metadata": {},
   "outputs": [],
   "source": [
    "f = nf.Norm(M3)"
   ]
  },
  {
   "cell_type": "code",
   "execution_count": null,
   "id": "d0b953e8",
   "metadata": {},
   "outputs": [],
   "source": [
    "initial_vector = f.init_x()"
   ]
  },
  {
   "cell_type": "code",
   "execution_count": null,
   "id": "5415e409",
   "metadata": {},
   "outputs": [],
   "source": [
    "norm = la.norm(M3, ord=2) ** 2"
   ]
  },
  {
   "cell_type": "code",
   "execution_count": null,
   "id": "53180771",
   "metadata": {},
   "outputs": [],
   "source": [
    "optimizerSGD = GD.GradientDescent(f, initial_vector, 1e-5, fstar = norm, verbose = True)\n",
    "gradientSGD, normsSGD, errorsSGD = optimizerSGD.run(500)"
   ]
  },
  {
   "cell_type": "code",
   "execution_count": null,
   "id": "786b2705",
   "metadata": {},
   "outputs": [],
   "source": [
    "make_plot(gradientSGD, errorsSGD,plot_path='plot-gd/', type='M3')"
   ]
  },
  {
   "cell_type": "markdown",
   "id": "1777b6cf",
   "metadata": {},
   "source": [
    "### Time comparison"
   ]
  },
  {
   "cell_type": "code",
   "execution_count": null,
   "id": "1f8294a9",
   "metadata": {},
   "outputs": [],
   "source": [
    "%%timeit -r 100 -n 10\n",
    "# Optimizer SGD\n",
    "f = nf.Norm(M3)\n",
    "optimizerSGD = GD.GradientDescent(f, initial_vector, 1e-5, fstar = norm, verbose = False)\n",
    "gradientSGD, normsSGD, errorsSGD = optimizerSGD.run(500)"
   ]
  },
  {
   "cell_type": "code",
   "execution_count": null,
   "id": "42222d06",
   "metadata": {},
   "outputs": [],
   "source": [
    "%%timeit -r 100 -n 10\n",
    "# Norm numpy\n",
    "norm = la.norm(M3, ord=2) ** 2"
   ]
  },
  {
   "cell_type": "markdown",
   "id": "6dc3dcae",
   "metadata": {},
   "source": [
    "# Experiments on Matrix M4"
   ]
  },
  {
   "cell_type": "code",
   "execution_count": null,
   "id": "b9dd4cfb",
   "metadata": {},
   "outputs": [],
   "source": [
    "f = nf.Norm(M4)"
   ]
  },
  {
   "cell_type": "code",
   "execution_count": null,
   "id": "47889c90",
   "metadata": {},
   "outputs": [],
   "source": [
    "initial_vector = f.init_x()"
   ]
  },
  {
   "cell_type": "code",
   "execution_count": null,
   "id": "f5dc5287",
   "metadata": {},
   "outputs": [],
   "source": [
    "norm = la.norm(M4, ord=2) ** 2"
   ]
  },
  {
   "cell_type": "code",
   "execution_count": null,
   "id": "9133e79a",
   "metadata": {},
   "outputs": [],
   "source": [
    "optimizerSGD = GD.GradientDescent(f, initial_vector, 1e-5, fstar = norm, verbose = True)\n",
    "gradientSGD, normsSGD, errorsSGD = optimizerSGD.run(500)"
   ]
  },
  {
   "cell_type": "code",
   "execution_count": null,
   "id": "83744755",
   "metadata": {},
   "outputs": [],
   "source": [
    "make_plot(gradientSGD, errorsSGD,plot_path='plot-gd/', type='M4')"
   ]
  },
  {
   "cell_type": "markdown",
   "id": "6670871a",
   "metadata": {},
   "source": [
    "### Time comparison"
   ]
  },
  {
   "cell_type": "code",
   "execution_count": null,
   "id": "1808025a",
   "metadata": {},
   "outputs": [],
   "source": [
    "%%timeit -r 100 -n 10\n",
    "# Optimizer SGD\n",
    "f = nf.Norm(M4)\n",
    "optimizerSGD = GD.GradientDescent(f, initial_vector, 1e-5, fstar = norm, verbose = False)\n",
    "gradientSGD, normsSGD, errorsSGD = optimizerSGD.run(500)"
   ]
  },
  {
   "cell_type": "code",
   "execution_count": null,
   "id": "bd82dd4d",
   "metadata": {},
   "outputs": [],
   "source": [
    "%%timeit -r 100 -n 10\n",
    "# Norm numpy\n",
    "norm = la.norm(M4, ord=2) ** 2"
   ]
  },
  {
   "cell_type": "markdown",
   "id": "c2ca7319",
   "metadata": {},
   "source": [
    "# Experiments on Matrix M5"
   ]
  },
  {
   "cell_type": "code",
   "execution_count": null,
   "id": "b161b486",
   "metadata": {},
   "outputs": [],
   "source": [
    "f = nf.Norm(M5)"
   ]
  },
  {
   "cell_type": "code",
   "execution_count": null,
   "id": "54815c0c",
   "metadata": {},
   "outputs": [],
   "source": [
    "initial_vector = f.init_x()"
   ]
  },
  {
   "cell_type": "code",
   "execution_count": null,
   "id": "9fbf62c8",
   "metadata": {},
   "outputs": [],
   "source": [
    "norm = la.norm(M5, ord=2) ** 2"
   ]
  },
  {
   "cell_type": "code",
   "execution_count": null,
   "id": "c067814b",
   "metadata": {},
   "outputs": [],
   "source": [
    "optimizerSGD = GD.GradientDescent(f, initial_vector, 1e-5, fstar = norm, verbose = True)\n",
    "gradientSGD, normsSGD, errorsSGD = optimizerSGD.run(500)"
   ]
  },
  {
   "cell_type": "code",
   "execution_count": null,
   "id": "739a0220",
   "metadata": {},
   "outputs": [],
   "source": [
    "make_plot(gradientSGD, errorsSGD,plot_path='plot-gd/', type='M5')"
   ]
  },
  {
   "cell_type": "markdown",
   "id": "0bd20b24",
   "metadata": {},
   "source": [
    "### Time comparison"
   ]
  },
  {
   "cell_type": "code",
   "execution_count": null,
   "id": "bffb50df",
   "metadata": {},
   "outputs": [],
   "source": [
    "%%timeit -r 100 -n 10\n",
    "# Optimizer SGD\n",
    "f = nf.Norm(M5)\n",
    "optimizerSGD = GD.GradientDescent(f, initial_vector, 1e-5, fstar = norm, verbose = False)\n",
    "gradientSGD, normsSGD, errorsSGD = optimizerSGD.run(500)"
   ]
  },
  {
   "cell_type": "code",
   "execution_count": null,
   "id": "1da17bb0",
   "metadata": {},
   "outputs": [],
   "source": [
    "%%timeit -r 100 -n 10\n",
    "# Norm numpy\n",
    "norm = la.norm(M5, ord=2) ** 2"
   ]
  }
 ],
 "metadata": {
  "kernelspec": {
   "display_name": "cm",
   "language": "python",
   "name": "cm"
  },
  "language_info": {
   "codemirror_mode": {
    "name": "ipython",
    "version": 3
   },
   "file_extension": ".py",
   "mimetype": "text/x-python",
   "name": "python",
   "nbconvert_exporter": "python",
   "pygments_lexer": "ipython3",
   "version": "3.8.13"
  },
  "vscode": {
   "interpreter": {
    "hash": "8b9c3c1d364fc4645defed31d694b142be642b46f231d149b74bb98879612b18"
   }
  }
 },
 "nbformat": 4,
 "nbformat_minor": 5
}
